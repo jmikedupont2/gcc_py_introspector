{
 "cells": [
  {
   "cell_type": "code",
   "execution_count": 1,
   "metadata": {},
   "outputs": [],
   "source": [
    "from toolz_graph import *\n"
   ]
  },
  {
   "cell_type": "code",
   "execution_count": 2,
   "metadata": {},
   "outputs": [],
   "source": [
    "import sys\n",
    "import json\n",
    "import pprint\n",
    "from toolz.curried import *"
   ]
  },
  {
   "cell_type": "markdown",
   "metadata": {},
   "source": [
    "The introspect-data-linux contains data from a parsed .tu file and cleaned up with scripts to normalize it. Later we will emit that clean json directly but for now it is the interface used."
   ]
  },
  {
   "cell_type": "code",
   "execution_count": 3,
   "metadata": {},
   "outputs": [],
   "source": [
    "input_file = open(\"introspector-data-linux/linux_clean.json\")\n",
    "nodes = json.load(input_file)['nodes']"
   ]
  },
  {
   "cell_type": "markdown",
   "metadata": {},
   "source": [
    "An example node, the _id is the node id, _type is the type of the field.\n",
    "The other attributes are either refrences to nodes or literals, there is no denotation of the type of the field here, but the fieldnames are clearly defined.  "
   ]
  },
  {
   "cell_type": "code",
   "execution_count": 4,
   "metadata": {},
   "outputs": [],
   "source": [
    "def field_report(data):\n",
    "    \"\"\"Helper function to print out the fields in order of usage\"\"\"\n",
    "    field_names_data = dict(frequencies(list(concat(map(keys, data)))))\n",
    "    items = field_names_data.items()\n",
    "    sorted_fields = list(map(first, list(reversed(sorted(items, key=nth(1))))))\n",
    "    return sorted_fields\n"
   ]
  },
  {
   "cell_type": "code",
   "execution_count": 5,
   "metadata": {
    "scrolled": false
   },
   "outputs": [
    {
     "name": "stdout",
     "output_type": "stream",
     "text": [
      "{'_id': '1', '_type': 'type_decl', 'chain': '4', 'name': '2', 'type': '3'}\n"
     ]
    }
   ],
   "source": [
    "pprint.pprint(nodes[0])"
   ]
  },
  {
   "cell_type": "code",
   "execution_count": 6,
   "metadata": {
    "scrolled": true
   },
   "outputs": [
    {
     "data": {
      "text/plain": [
       "['_type',\n",
       " '_id',\n",
       " 'type',\n",
       " 'name',\n",
       " 'srcp',\n",
       " 'scpe',\n",
       " 'OP0 :',\n",
       " 'chain',\n",
       " 'algn',\n",
       " 'size',\n",
       " '_string_len',\n",
       " '_string',\n",
       " 'valu',\n",
       " 'chan',\n",
       " 'OP1',\n",
       " 'body',\n",
       " 'link',\n",
       " 'bpos',\n",
       " 'retn',\n",
       " 'prms',\n",
       " 'used',\n",
       " 'E0',\n",
       " 'purp',\n",
       " 'cnst',\n",
       " 'E1',\n",
       " 'fn',\n",
       " 'value',\n",
       " 'ptd',\n",
       " 'argt',\n",
       " 'E2',\n",
       " 'expr',\n",
       " 'tag',\n",
       " 'unql',\n",
       " 'flds',\n",
       " 'mngl',\n",
       " 'prec',\n",
       " 'sign',\n",
       " 'min',\n",
       " 'max',\n",
       " 'args',\n",
       " 'labl',\n",
       " 'E3',\n",
       " 'init',\n",
       " 'val',\n",
       " 'vars',\n",
       " 'elts',\n",
       " 'domn',\n",
       " 'E4',\n",
       " 'qual',\n",
       " 'E5',\n",
       " 'csts',\n",
       " 'OP2',\n",
       " 'E6',\n",
       " 'E7',\n",
       " 'E8',\n",
       " 'E9',\n",
       " 'E10',\n",
       " 'low',\n",
       " 'E11',\n",
       " 'E12',\n",
       " 'decl',\n",
       " 'E13',\n",
       " 'E14',\n",
       " 'E15',\n",
       " 'idx',\n",
       " 'E16',\n",
       " 'E17',\n",
       " 'E18',\n",
       " 'E19',\n",
       " 'E20',\n",
       " 'E21',\n",
       " 'E22',\n",
       " 'E23',\n",
       " 'E25',\n",
       " 'E24',\n",
       " 'E26',\n",
       " 'E27',\n",
       " 'E28',\n",
       " 'E29',\n",
       " 'E31',\n",
       " 'E30',\n",
       " 'E35',\n",
       " 'E34',\n",
       " 'E33',\n",
       " 'E32',\n",
       " 'E39',\n",
       " 'E38',\n",
       " 'E37',\n",
       " 'E36',\n",
       " 'cond',\n",
       " 'E43',\n",
       " 'E42',\n",
       " 'E41',\n",
       " 'E40',\n",
       " 'E47',\n",
       " 'E46',\n",
       " 'E45',\n",
       " 'E44',\n",
       " 'E54',\n",
       " 'E53',\n",
       " 'E52',\n",
       " 'E51',\n",
       " 'E50',\n",
       " 'E49',\n",
       " 'E48',\n",
       " 'E62',\n",
       " 'E61',\n",
       " 'E60',\n",
       " 'E59',\n",
       " 'E58',\n",
       " 'E57',\n",
       " 'E56',\n",
       " 'E55',\n",
       " 'refd',\n",
       " 'E97',\n",
       " 'E96',\n",
       " 'E95',\n",
       " 'E94',\n",
       " 'E93',\n",
       " 'E92',\n",
       " 'E91',\n",
       " 'E90',\n",
       " 'E89',\n",
       " 'E88',\n",
       " 'E87',\n",
       " 'E86',\n",
       " 'E85',\n",
       " 'E84',\n",
       " 'E83',\n",
       " 'E82',\n",
       " 'E81',\n",
       " 'E80',\n",
       " 'E79',\n",
       " 'E78',\n",
       " 'E77',\n",
       " 'E76',\n",
       " 'E75',\n",
       " 'E74',\n",
       " 'E73',\n",
       " 'E72',\n",
       " 'E71',\n",
       " 'E70',\n",
       " 'E69',\n",
       " 'E68',\n",
       " 'E67',\n",
       " 'E66',\n",
       " 'E65',\n",
       " 'E64',\n",
       " 'E63']"
      ]
     },
     "execution_count": 6,
     "metadata": {},
     "output_type": "execute_result"
    }
   ],
   "source": [
    "field_report(nodes)\n"
   ]
  },
  {
   "cell_type": "code",
   "execution_count": 7,
   "metadata": {},
   "outputs": [],
   "source": [
    "def join_field(role_from, role_to, field_name, nodes, exclude_left=(), exclude_right=()):\n",
    "    from_field_name = field_name\n",
    "    if role_from:\n",
    "        from_field_name = role_from + \"_\" + field_name\n",
    "    to_field_name = role_to + \"__id\"\n",
    "    \n",
    "    results = keyjoin(\n",
    "            from_field_name,\n",
    "            filterfalse(\n",
    "                get_in(field_name),\n",
    "                map(\n",
    "                    pushdown(role_from, field_name, exclude_left),\n",
    "                    filter(_hasattr(field_name), nodes),\n",
    "                ),\n",
    "            ),\n",
    "            to_field_name,\n",
    "            map(pushdown(role_to, \"_id\", exclude_right), nodes),\n",
    "        )\n",
    "    # leave in all the ids\n",
    "    # results = map(mdissoc((to_field_name, from_field_name)),results)\n",
    "        \n",
    "    return list(results)"
   ]
  },
  {
   "cell_type": "markdown",
   "metadata": {},
   "source": [
    "Now we have a list of nodes we can join the nodes with themselves on the field named `type`. We name things on the left typed and things on the right the `typed_type` meaning is is the type behind the typed object. This will give us a nice table structure"
   ]
  },
  {
   "cell_type": "code",
   "execution_count": 8,
   "metadata": {},
   "outputs": [
    {
     "ename": "NameError",
     "evalue": "name '_hasattr' is not defined",
     "output_type": "error",
     "traceback": [
      "\u001b[0;31m---------------------------------------------------------------------------\u001b[0m",
      "\u001b[0;31mNameError\u001b[0m                                 Traceback (most recent call last)",
      "\u001b[0;32m<ipython-input-8-a6e00da2845d>\u001b[0m in \u001b[0;36m<module>\u001b[0;34m\u001b[0m\n\u001b[1;32m      2\u001b[0m                         \u001b[0;34m\"typed_type\"\u001b[0m\u001b[0;34m,\u001b[0m\u001b[0;34m\u001b[0m\u001b[0;34m\u001b[0m\u001b[0m\n\u001b[1;32m      3\u001b[0m                         \u001b[0;34m'type'\u001b[0m\u001b[0;34m,\u001b[0m\u001b[0;34m\u001b[0m\u001b[0;34m\u001b[0m\u001b[0m\n\u001b[0;32m----> 4\u001b[0;31m                          nodes)\n\u001b[0m",
      "\u001b[0;32m<ipython-input-7-a52b4d661943>\u001b[0m in \u001b[0;36mjoin_field\u001b[0;34m(role_from, role_to, field_name, nodes, exclude_left, exclude_right)\u001b[0m\n\u001b[1;32m     11\u001b[0m                 map(\n\u001b[1;32m     12\u001b[0m                     \u001b[0mpushdown\u001b[0m\u001b[0;34m(\u001b[0m\u001b[0mrole_from\u001b[0m\u001b[0;34m,\u001b[0m \u001b[0mfield_name\u001b[0m\u001b[0;34m,\u001b[0m \u001b[0mexclude_left\u001b[0m\u001b[0;34m)\u001b[0m\u001b[0;34m,\u001b[0m\u001b[0;34m\u001b[0m\u001b[0;34m\u001b[0m\u001b[0m\n\u001b[0;32m---> 13\u001b[0;31m                     \u001b[0mfilter\u001b[0m\u001b[0;34m(\u001b[0m\u001b[0m_hasattr\u001b[0m\u001b[0;34m(\u001b[0m\u001b[0mfield_name\u001b[0m\u001b[0;34m)\u001b[0m\u001b[0;34m,\u001b[0m \u001b[0mnodes\u001b[0m\u001b[0;34m)\u001b[0m\u001b[0;34m,\u001b[0m\u001b[0;34m\u001b[0m\u001b[0;34m\u001b[0m\u001b[0m\n\u001b[0m\u001b[1;32m     14\u001b[0m                 ),\n\u001b[1;32m     15\u001b[0m             ),\n",
      "\u001b[0;31mNameError\u001b[0m: name '_hasattr' is not defined"
     ]
    }
   ],
   "source": [
    "types_list = join_field(\"typed\",\n",
    "                        \"typed_type\",\n",
    "                        'type',\n",
    "                         nodes)"
   ]
  },
  {
   "cell_type": "code",
   "execution_count": null,
   "metadata": {},
   "outputs": [],
   "source": [
    "names = join_field(\"named\",\n",
    "                        \"name\",\n",
    "                        'name',\n",
    "                         nodes)"
   ]
  },
  {
   "cell_type": "code",
   "execution_count": null,
   "metadata": {
    "scrolled": true
   },
   "outputs": [],
   "source": [
    "field_report(names)"
   ]
  },
  {
   "cell_type": "code",
   "execution_count": null,
   "metadata": {},
   "outputs": [],
   "source": [
    "string_names= [x for x in names if 'name__string' in x]\n",
    "string_names"
   ]
  },
  {
   "cell_type": "markdown",
   "metadata": {},
   "source": [
    "This next block joins the names of things where the name itself is not a string,\n",
    "some names type decls and the name of them is the actual string .\n",
    "The actual string is represented here in the field 'name_name__string'\n",
    " "
   ]
  },
  {
   "cell_type": "code",
   "execution_count": null,
   "metadata": {
    "scrolled": true
   },
   "outputs": [],
   "source": [
    "\n",
    "names2 = join_field_extra(\n",
    "            role_from=None,\n",
    "            role_to=\"name\",\n",
    "            from_field_name=\"name_name\",        \n",
    "            to_field_name='_id',\n",
    "            nodes_from=names,\n",
    "            nodes_to=nodes,\n",
    "            debug=True,\n",
    "            exclude_right = (\n",
    "                'type',\n",
    "                '_type',\n",
    "            )\n",
    "        )"
   ]
  },
  {
   "cell_type": "markdown",
   "metadata": {},
   "source": [
    "Here is a unique list of the strings used in the names"
   ]
  },
  {
   "cell_type": "code",
   "execution_count": null,
   "metadata": {
    "scrolled": true
   },
   "outputs": [],
   "source": [
    "set(map(get('name__string'),names2))"
   ]
  },
  {
   "cell_type": "code",
   "execution_count": null,
   "metadata": {
    "scrolled": true
   },
   "outputs": [],
   "source": [
    "scpe_list = join_field(\"scoped\",\n",
    "                        \"scope\",\n",
    "                        'scpe',\n",
    "                         nodes)\n",
    "field_report(scpe_list)"
   ]
  },
  {
   "cell_type": "markdown",
   "metadata": {},
   "source": [
    "Now we can merge the simple and complex names together into one list for lookup"
   ]
  },
  {
   "cell_type": "code",
   "execution_count": null,
   "metadata": {
    "scrolled": true
   },
   "outputs": [],
   "source": [
    "all_names = string_names + names2\n",
    "sorted(field_report(all_names))"
   ]
  },
  {
   "cell_type": "code",
   "execution_count": null,
   "metadata": {},
   "outputs": [],
   "source": [
    "\n",
    "def filter_nodes(role, field_name, nodes, excludes) :\n",
    "    return list(filterfalse(\n",
    "                get_in(field_name),\n",
    "                map(\n",
    "                    pushdown(role, field_name, excludes),\n",
    "                    filter(_hasattr(field_name), nodes),\n",
    "                ),\n",
    "            ))\n",
    "    \n",
    "def join_field_extra(\n",
    "    role_from, from_field_name, nodes_from,\n",
    "    role_to,  to_field_name, nodes_to,\n",
    "                     debug=True,\n",
    "                     exclude_left=(),\n",
    "                     exclude_right=()):\n",
    "    \"\"\"The new from field name  is the field that is generated in the new obj\n",
    "the new to field is also prefixed by the role\n",
    "    \"\"\"\n",
    "    new_from_field_name = from_field_name\n",
    "    if role_from:\n",
    "        new_from_field_name = role_from + \"_\" + from_field_name\n",
    "    new_to_field_name = to_field_name\n",
    "    if role_to :\n",
    "        new_to_field_name = role_to + \"_\" + to_field_name\n",
    " \n",
    "    left = filter_nodes(role_from, from_field_name, nodes_from, exclude_left)\n",
    "    right =filter_nodes(role_to, to_field_name, nodes_to, exclude_right) \n",
    "\n",
    "    if debug:\n",
    "        if left:\n",
    "            pprint.pprint({\n",
    "                \"left examples\" :left[0:3],\n",
    "                \"new_left_key\" : new_from_field_name,\n",
    "                \"left_key\" : from_field_name,\n",
    "            })\n",
    "        if right:\n",
    "            pprint.pprint({\n",
    "                 \"right example\" : right[0:3],\n",
    "                \"right_key\" :to_field_name,\n",
    "                \"new_right_key\" :new_to_field_name})\n",
    "    if not right :\n",
    "        raise Exception()\n",
    "    if not left:\n",
    "        raise Exception()\n",
    "    results = keyjoin(\n",
    "            new_from_field_name,\n",
    "            left,\n",
    "            new_to_field_name,\n",
    "            right,\n",
    "        )\n",
    "    # results = map(mdissoc((new_to_field_name, new_from_field_name)),results)\n",
    "    results_list = list(results)\n",
    "\n",
    "    if debug:\n",
    "        pprint.pprint({\n",
    "            'results-len': len(results_list),\n",
    "         })\n",
    "        if len(results_list):\n",
    "          pprint.pprint({\n",
    "            'results-example' : results_list[0:3]})\n",
    "    \n",
    "    return results_list\n"
   ]
  },
  {
   "cell_type": "code",
   "execution_count": null,
   "metadata": {},
   "outputs": [],
   "source": [
    "field_report(all_names)"
   ]
  },
  {
   "cell_type": "code",
   "execution_count": null,
   "metadata": {
    "scrolled": true
   },
   "outputs": [],
   "source": [
    "#field_report(all_names)\n",
    "scope_name = join_field_extra(\n",
    "            nodes_from=scpe_list,\n",
    "            role_from=None,\n",
    "            from_field_name='scope_name',\n",
    "            role_to='scope_name',\n",
    "    nodes_to=all_names,        \n",
    "    to_field_name='name__id',            \n",
    "    debug=True)\n",
    "field_report(scope_name)\n"
   ]
  },
  {
   "cell_type": "code",
   "execution_count": null,
   "metadata": {},
   "outputs": [],
   "source": [
    "scoped_name = join_field_extra(\n",
    "            nodes_from=scpe_list,\n",
    "            role_from=None,\n",
    "            from_field_name='scoped_name',\n",
    "            role_to='scoped_name',\n",
    "    nodes_to=all_names,        \n",
    "    to_field_name='name__id',                \n",
    "    debug=True)\n",
    "field_report(scoped_name)"
   ]
  },
  {
   "cell_type": "markdown",
   "metadata": {},
   "source": [
    "now we join the scoped with the scope names"
   ]
  },
  {
   "cell_type": "code",
   "execution_count": 15,
   "metadata": {},
   "outputs": [
    {
     "ename": "NameError",
     "evalue": "name 'scoped_name' is not defined",
     "output_type": "error",
     "traceback": [
      "\u001b[0;31m---------------------------------------------------------------------------\u001b[0m",
      "\u001b[0;31mNameError\u001b[0m                                 Traceback (most recent call last)",
      "\u001b[0;32m<ipython-input-15-3e96cf54463e>\u001b[0m in \u001b[0;36m<module>\u001b[0;34m\u001b[0m\n\u001b[1;32m      1\u001b[0m scoped_scope = join_field_extra(\n\u001b[0;32m----> 2\u001b[0;31m             \u001b[0mnodes_from\u001b[0m\u001b[0;34m=\u001b[0m\u001b[0mscoped_name\u001b[0m\u001b[0;34m,\u001b[0m\u001b[0;34m\u001b[0m\u001b[0;34m\u001b[0m\u001b[0m\n\u001b[0m\u001b[1;32m      3\u001b[0m             \u001b[0mrole_from\u001b[0m\u001b[0;34m=\u001b[0m\u001b[0;34m'left'\u001b[0m\u001b[0;34m,\u001b[0m\u001b[0;34m\u001b[0m\u001b[0;34m\u001b[0m\u001b[0m\n\u001b[1;32m      4\u001b[0m             \u001b[0mfrom_field_name\u001b[0m\u001b[0;34m=\u001b[0m\u001b[0;34m'scope__id'\u001b[0m\u001b[0;34m,\u001b[0m\u001b[0;34m\u001b[0m\u001b[0;34m\u001b[0m\u001b[0m\n\u001b[1;32m      5\u001b[0m \u001b[0;34m\u001b[0m\u001b[0m\n",
      "\u001b[0;31mNameError\u001b[0m: name 'scoped_name' is not defined"
     ]
    }
   ],
   "source": [
    "scoped_scope = join_field_extra(\n",
    "            nodes_from=scoped_name,\n",
    "            role_from='left',\n",
    "            from_field_name='scope__id',\n",
    "         \n",
    "    \n",
    "            role_to='right',\n",
    "            nodes_to=all_names,        \n",
    "            to_field_name='named__id',                \n",
    "    debug=True)"
   ]
  },
  {
   "cell_type": "markdown",
   "metadata": {},
   "source": [
    "now show some names"
   ]
  },
  {
   "cell_type": "code",
   "execution_count": null,
   "metadata": {},
   "outputs": [],
   "source": [
    "simple_report = list({ \n",
    "   obj['left_scoped_name_named__type'] : obj['left_scoped_name_name__string'],\n",
    "    obj['right_named__type'] : obj['right_name__string'],\n",
    "} for obj in list(scoped_scope))\n",
    "\n",
    "field_report(simple_report)"
   ]
  },
  {
   "cell_type": "markdown",
   "metadata": {},
   "source": [
    "This next report shows you the contained object and the container object by type, we see a good distribution of objects"
   ]
  },
  {
   "cell_type": "code",
   "execution_count": 10,
   "metadata": {},
   "outputs": [
    {
     "ename": "NameError",
     "evalue": "name 'scoped_scope' is not defined",
     "output_type": "error",
     "traceback": [
      "\u001b[0;31m---------------------------------------------------------------------------\u001b[0m",
      "\u001b[0;31mNameError\u001b[0m                                 Traceback (most recent call last)",
      "\u001b[0;32m<ipython-input-10-b45f9816be73>\u001b[0m in \u001b[0;36m<module>\u001b[0;34m\u001b[0m\n\u001b[1;32m      1\u001b[0m simple_report2 = groupby(\n\u001b[1;32m      2\u001b[0m    [ 'left_scoped_name_named__type' , \n\u001b[0;32m----> 3\u001b[0;31m     'right_named__type'] , list(scoped_scope))\n\u001b[0m\u001b[1;32m      4\u001b[0m \u001b[0mset\u001b[0m\u001b[0;34m(\u001b[0m\u001b[0msimple_report2\u001b[0m\u001b[0;34m)\u001b[0m\u001b[0;34m\u001b[0m\u001b[0;34m\u001b[0m\u001b[0m\n",
      "\u001b[0;31mNameError\u001b[0m: name 'scoped_scope' is not defined"
     ]
    }
   ],
   "source": [
    "simple_report2 = groupby(\n",
    "   [ 'left_scoped_name_named__type' , \n",
    "    'right_named__type'] , list(scoped_scope))\n",
    "set(simple_report2)"
   ]
  },
  {
   "cell_type": "code",
   "execution_count": null,
   "metadata": {},
   "outputs": [],
   "source": [
    "fields"
   ]
  },
  {
   "cell_type": "code",
   "execution_count": null,
   "metadata": {},
   "outputs": [],
   "source": [
    "from IPython.display import HTML, display"
   ]
  },
  {
   "cell_type": "code",
   "execution_count": 11,
   "metadata": {},
   "outputs": [
    {
     "ename": "NameError",
     "evalue": "name 'string_fields' is not defined",
     "output_type": "error",
     "traceback": [
      "\u001b[0;31m---------------------------------------------------------------------------\u001b[0m",
      "\u001b[0;31mNameError\u001b[0m                                 Traceback (most recent call last)",
      "\u001b[0;32m<ipython-input-11-d4235b5dcae3>\u001b[0m in \u001b[0;36m<module>\u001b[0;34m\u001b[0m\n\u001b[1;32m      1\u001b[0m \u001b[0;31m# fields = field_report(scoped_scope)\u001b[0m\u001b[0;34m\u001b[0m\u001b[0;34m\u001b[0m\u001b[0;34m\u001b[0m\u001b[0m\n\u001b[0;32m----> 2\u001b[0;31m \u001b[0mfields\u001b[0m \u001b[0;34m=\u001b[0m \u001b[0mstring_fields\u001b[0m\u001b[0;34m\u001b[0m\u001b[0;34m\u001b[0m\u001b[0m\n\u001b[0m\u001b[1;32m      3\u001b[0m \u001b[0;34m\u001b[0m\u001b[0m\n\u001b[1;32m      4\u001b[0m \u001b[0mheader\u001b[0m \u001b[0;34m=\u001b[0m \u001b[0;34m'</th><th>'\u001b[0m\u001b[0;34m.\u001b[0m\u001b[0mjoin\u001b[0m\u001b[0;34m(\u001b[0m\u001b[0mfields\u001b[0m\u001b[0;34m)\u001b[0m\u001b[0;34m\u001b[0m\u001b[0;34m\u001b[0m\u001b[0m\n\u001b[1;32m      5\u001b[0m \u001b[0;34m\u001b[0m\u001b[0m\n",
      "\u001b[0;31mNameError\u001b[0m: name 'string_fields' is not defined"
     ]
    }
   ],
   "source": [
    "\n",
    "# fields = field_report(scoped_scope)\n",
    "fields = string_fields\n",
    "\n",
    "header = '</th><th>'.join(fields)\n",
    "\n",
    "display(HTML(\n",
    "   '<table><tr><th>{}</th></tr><tr>{}</tr></table>'.format(\n",
    "       header, \n",
    "       '</tr><tr>'.join(\n",
    "        '<td>{}</td>'.format('</td><td>'.join(str(row.get(k,'null')) for k in fields)) for row in scoped_scope)\n",
    "       )))"
   ]
  },
  {
   "cell_type": "code",
   "execution_count": 12,
   "metadata": {},
   "outputs": [
    {
     "ename": "NameError",
     "evalue": "name 'scoped_scope' is not defined",
     "output_type": "error",
     "traceback": [
      "\u001b[0;31m---------------------------------------------------------------------------\u001b[0m",
      "\u001b[0;31mNameError\u001b[0m                                 Traceback (most recent call last)",
      "\u001b[0;32m<ipython-input-12-4a3206a1c2d4>\u001b[0m in \u001b[0;36m<module>\u001b[0;34m\u001b[0m\n\u001b[0;32m----> 1\u001b[0;31m \u001b[0;34m[\u001b[0m\u001b[0mx\u001b[0m \u001b[0;32mfor\u001b[0m \u001b[0mx\u001b[0m \u001b[0;32min\u001b[0m \u001b[0mfield_report\u001b[0m\u001b[0;34m(\u001b[0m\u001b[0mscoped_scope\u001b[0m\u001b[0;34m)\u001b[0m \u001b[0;32mif\u001b[0m \u001b[0mx\u001b[0m\u001b[0;34m.\u001b[0m\u001b[0mendswith\u001b[0m\u001b[0;34m(\u001b[0m\u001b[0;34m'string'\u001b[0m\u001b[0;34m)\u001b[0m \u001b[0;32mor\u001b[0m \u001b[0;34m'__type'\u001b[0m \u001b[0;32min\u001b[0m \u001b[0mx\u001b[0m\u001b[0;34m]\u001b[0m\u001b[0;34m\u001b[0m\u001b[0;34m\u001b[0m\u001b[0m\n\u001b[0m",
      "\u001b[0;31mNameError\u001b[0m: name 'scoped_scope' is not defined"
     ]
    }
   ],
   "source": [
    " [x for x in field_report(scoped_scope) if x.endswith('string') or '__type' in x]\n"
   ]
  },
  {
   "cell_type": "code",
   "execution_count": null,
   "metadata": {},
   "outputs": [],
   "source": []
  }
 ],
 "metadata": {
  "kernelspec": {
   "display_name": "Python 3",
   "language": "python",
   "name": "python3"
  },
  "language_info": {
   "codemirror_mode": {
    "name": "ipython",
    "version": 3
   },
   "file_extension": ".py",
   "mimetype": "text/x-python",
   "name": "python",
   "nbconvert_exporter": "python",
   "pygments_lexer": "ipython3",
   "version": "3.7.3"
  }
 },
 "nbformat": 4,
 "nbformat_minor": 2
}
